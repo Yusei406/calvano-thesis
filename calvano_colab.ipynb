{
  "cells": [
    {
      "cell_type": "markdown",
      "metadata": {
        "id": "view-in-github",
        "colab_type": "text"
      },
      "source": [
        "<a href=\"https://colab.research.google.com/github/YOUR_USERNAME/calvano-thesis/blob/v1.1-parallel/calvano_colab.ipynb\" target=\"_parent\"><img src=\"https://colab.research.google.com/assets/colab-badge.svg\" alt=\"Open In Colab\"/></a>"
      ]
    },
    {
      "cell_type": "markdown",
      "metadata": {
        "id": "title"
      },
      "source": [
        "# 🎯 Calvano et al. (2020) Full Experiment\n",
        "\n",
        "This notebook runs the full-scale experiment (50,000 episodes × 10 seeds) for replicating Calvano et al. (2020) Table A.2.\n",
        "\n",
        "**Estimated Runtime:**\n",
        "- Colab Free (2 cores): ~3 hours\n",
        "- Colab Pro (4 cores): ~1.5 hours\n",
        "\n",
        "**Features:**\n",
        "- ✅ Parallel execution with 4 workers\n",
        "- ✅ Resume capability (survives disconnections)\n",
        "- ✅ Google Drive backup\n",
        "- ✅ Automatic result download"
      ]
    },
    {
      "cell_type": "code",
      "execution_count": null,
      "metadata": {
        "id": "setup"
      },
      "outputs": [],
      "source": [
        "# 📦 Setup: Clone repository and install dependencies\n",
        "!git clone --branch v1.1-parallel https://github.com/YOUR_USERNAME/calvano-thesis.git\n",
        "%cd calvano-thesis\n",
        "!pip install -q -r requirements.txt\n",
        "\n",
        "print(\"✅ Setup complete!\")\n",
        "!python -c \"import src.env; print('Environment test:', src.env.DemandEnvironment().get_nash_equilibrium()['individual_profit'])\""
      ]
    },
    {
      "cell_type": "code",
      "execution_count": null,
      "metadata": {
        "id": "drive-mount"
      },
      "outputs": [],
      "source": [
        "# 💾 Optional: Mount Google Drive for backup\n",
        "from google.colab import drive\n",
        "import os\n",
        "\n",
        "drive.mount('/content/drive')\n",
        "OUT_DIR = \"/content/drive/MyDrive/calvano_results\"\n",
        "os.makedirs(OUT_DIR, exist_ok=True)\n",
        "\n",
        "print(f\"📁 Results will be saved to: {OUT_DIR}\")"
      ]
    },
    {
      "cell_type": "code",
      "execution_count": null,
      "metadata": {
        "id": "full-experiment"
      },
      "outputs": [],
      "source": [
        "# 🚀 Run Full Experiment: 50,000 episodes × 10 seeds\n",
        "import time\n",
        "\n",
        "print(\"🎯 Starting full experiment...\")\n",
        "print(\"📊 Target: Individual ~0.18±0.03, Joint ~0.26±0.04\")\n",
        "print(\"⏰ Estimated time: 1.5-3 hours\")\n",
        "print()\n",
        "\n",
        "start_time = time.time()\n",
        "\n",
        "!python scripts/table_a2_parallel.py \\\n",
        "    --episodes 50000 \\\n",
        "    --n-seeds 10 \\\n",
        "    --workers 4 \\\n",
        "    --out-dir $OUT_DIR \\\n",
        "    --csv $OUT_DIR/table_a2_full.csv \\\n",
        "    --json $OUT_DIR/table_a2_full.json \\\n",
        "    --resume\n",
        "\n",
        "elapsed = (time.time() - start_time) / 3600\n",
        "print(f\"\\n🏁 Experiment completed in {elapsed:.2f} hours\")"
      ]
    },
    {
      "cell_type": "code",
      "execution_count": null,
      "metadata": {
        "id": "resume-experiment"
      },
      "outputs": [],
      "source": [
        "# 🔄 Resume Experiment (run this cell if disconnected)\n",
        "print(\"🔄 Resuming experiment...\")\n",
        "\n",
        "!python scripts/table_a2_parallel.py \\\n",
        "    --episodes 50000 \\\n",
        "    --n-seeds 10 \\\n",
        "    --workers 4 \\\n",
        "    --out-dir $OUT_DIR \\\n",
        "    --csv $OUT_DIR/table_a2_full.csv \\\n",
        "    --json $OUT_DIR/table_a2_full.json \\\n",
        "    --resume"
      ]
    },
    {
      "cell_type": "code",
      "execution_count": null,
      "metadata": {
        "id": "analyze-results"
      },
      "outputs": [],
      "source": [
        "# �� Analyze Results\n",
        "import pandas as pd\n",
        "import json\n",
        "import glob\n",
        "\n",
        "# Load individual seed results\n",
        "seed_files = glob.glob(f\"{OUT_DIR}/seed_*.csv\")\n",
        "if seed_files:\n",
        "    df = pd.concat([pd.read_csv(f) for f in seed_files])\n",
        "    print(f\"📈 Results from {len(df)} seeds:\")\n",
        "    print(df[['seed', 'individual_profit', 'joint_profit']].round(4))\n",
        "    print()\n",
        "    \n",
        "    # Summary statistics\n",
        "    individual_mean = df['individual_profit'].mean()\n",
        "    individual_std = df['individual_profit'].std()\n",
        "    joint_mean = df['joint_profit'].mean()\n",
        "    joint_std = df['joint_profit'].std()\n",
        "    \n",
        "    print(f\"📊 Summary Statistics:\")\n",
        "    print(f\"   Individual: {individual_mean:.4f} ± {individual_std:.4f}\")\n",
        "    print(f\"   Joint: {joint_mean:.4f} ± {joint_std:.4f}\")\n",
        "    print()\n",
        "    \n",
        "    # Compare to targets\n",
        "    target_individual = 0.18\n",
        "    target_joint = 0.26\n",
        "    individual_diff = abs(individual_mean - target_individual)\n",
        "    joint_diff = abs(joint_mean - target_joint)\n",
        "    \n",
        "    print(f\"🎯 Comparison to Calvano et al. (2020):\")\n",
        "    print(f\"   Individual: {'✅' if individual_diff <= 0.03 else '⚠️'} {individual_diff:.4f} from target\")\n",
        "    print(f\"   Joint: {'✅' if joint_diff <= 0.04 else '⚠️'} {joint_diff:.4f} from target\")\n",
        "    \n",
        "    # Save combined results\n",
        "    df.to_csv(\"results/table_a2_full_combined.csv\", index=False)\n",
        "    print(f\"\\n💾 Combined results saved to results/table_a2_full_combined.csv\")\n",
        "else:\n",
        "    print(\"❌ No results found. Please run the experiment first.\")"
      ]
    },
    {
      "cell_type": "code",
      "execution_count": null,
      "metadata": {
        "id": "download-results"
      },
      "outputs": [],
      "source": [
        "# 📥 Download Results to Local Machine\n",
        "from google.colab import files\n",
        "import os\n",
        "\n",
        "# Download main result files\n",
        "result_files = [\n",
        "    \"results/table_a2_full_combined.csv\",\n",
        "    f\"{OUT_DIR}/table_a2_full.json\",\n",
        "    f\"{OUT_DIR}/table_a2_full.csv\"\n",
        "]\n",
        "\n",
        "for file_path in result_files:\n",
        "    if os.path.exists(file_path):\n",
        "        print(f\"📥 Downloading {file_path}...\")\n",
        "        files.download(file_path)\n",
        "    else:\n",
        "        print(f\"⚠️ File not found: {file_path}\")\n",
        "\n",
        "print(\"\\n✅ Download complete!\")\n",
        "print(\"📁 Files are also backed up in your Google Drive at:\", OUT_DIR)"
      ]
    },
    {
      "cell_type": "markdown",
      "metadata": {
        "id": "troubleshooting"
      },
      "source": [
        "## 🔧 Troubleshooting\n",
        "\n",
        "**If the experiment gets interrupted:**\n",
        "1. Run the \"Resume Experiment\" cell\n",
        "2. The `--resume` flag will skip completed seeds\n",
        "3. Only remaining seeds will be processed\n",
        "\n",
        "**If you need to restart:**\n",
        "1. Re-run the setup cell\n",
        "2. Re-mount Google Drive\n",
        "3. Run the resume experiment cell\n",
        "\n",
        "**For different experiment sizes:**\n",
        "- Quick test: `--episodes 1000 --n-seeds 2`\n",
        "- Medium scale: `--episodes 1000 --n-seeds 5`\n",
        "- Full scale: `--episodes 50000 --n-seeds 10`"
      ]
    }
  ],
  "metadata": {
    "colab": {
      "provenance": [],
      "machine": {
        "gpu": false,
        "cpu": 4
      }
    },
    "kernelspec": {
      "display_name": "Python 3",
      "name": "python3"
    },
    "language_info": {
      "name": "python"
    }
  },
  "nbformat": 4,
  "nbformat_minor": 0
}
